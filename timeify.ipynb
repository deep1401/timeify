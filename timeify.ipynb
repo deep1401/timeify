{
 "cells": [
  {
   "cell_type": "code",
   "execution_count": 1,
   "metadata": {},
   "outputs": [],
   "source": [
    "# Run for the first time\n",
    "#!pip install holidays"
   ]
  },
  {
   "cell_type": "code",
   "execution_count": 2,
   "metadata": {},
   "outputs": [],
   "source": [
    "from datetime import date as date\n",
    "\n",
    "import holidays\n",
    "import numpy as np\n",
    "import pandas as pd"
   ]
  },
  {
   "cell_type": "code",
   "execution_count": 69,
   "metadata": {},
   "outputs": [
    {
     "name": "stdout",
     "output_type": "stream",
     "text": [
      "2001-01-01 New Year's Day\n",
      "2001-01-15 Martin Luther King Jr. Day\n",
      "2001-02-19 Washington's Birthday\n",
      "2001-05-28 Memorial Day\n",
      "2001-07-04 Independence Day\n",
      "2001-09-03 Labor Day\n",
      "2001-10-08 Columbus Day\n",
      "2001-11-11 Veterans Day\n",
      "2001-11-12 Veterans Day (Observed)\n",
      "2001-11-22 Thanksgiving\n",
      "2001-12-25 Christmas Day\n"
     ]
    }
   ],
   "source": [
    "for date, name in sorted(holidays.US(years=2001).items()):\n",
    "    print(date, name)"
   ]
  },
  {
   "cell_type": "code",
   "execution_count": 84,
   "metadata": {},
   "outputs": [
    {
     "data": {
      "text/plain": [
       "'2014-01-01'"
      ]
     },
     "execution_count": 84,
     "metadata": {},
     "output_type": "execute_result"
    }
   ],
   "source": [
    "us_holidays = holidays.US()"
   ]
  },
  {
   "cell_type": "code",
   "execution_count": 94,
   "metadata": {},
   "outputs": [],
   "source": [
    "country_code = \"US\"\n",
    "us_holidays = holidays.CountryHoliday(country_code)\n",
    "us_holidays.prov = [\"CA\", \"MX\"]\n",
    "us_holidays.get(\"2020-1-2\")"
   ]
  },
  {
   "cell_type": "markdown",
   "metadata": {},
   "source": [
    "## Add holiday to dataframe"
   ]
  },
  {
   "cell_type": "code",
   "execution_count": 6,
   "metadata": {},
   "outputs": [],
   "source": [
    "def add_holidays_to_dataframe(\n",
    "    dataframe, date_field, country_code, province: list = None\n",
    "):\n",
    "    \"\"\"\n",
    "    params: dataframe: Pandas dataframe in which holidays are to be determined\n",
    "            date_field: Datetime field used to determine if its a holiday or not\n",
    "            country_code: Country code for which it is to be determined if its a holiday or not\n",
    "            province: State codes (if necessary) for the country\n",
    "    \n",
    "    returns: None, Changes made directly to dataframe\n",
    "    \"\"\"\n",
    "    country_holidays = holidays.CountryHoliday(country_code)\n",
    "    country_holidays.prov = province\n",
    "    # dataframe['StateHoliday'] = 0\n",
    "    cols = list(dataframe.columns)\n",
    "    cols.append(\"StateHoliday\")\n",
    "    # print(dataframe)\n",
    "    # dates = pd.DataFrame(dataframe[date_field]).copy()\n",
    "    dataframe[\"StateHoliday\"] = 0\n",
    "    # print(dates.dtypes)\n",
    "    if dataframe[date_field].dtypes == \"datetime64[ns]\":\n",
    "        dataframe[date_field] = dataframe[date_field].dt.strftime(\"%Y-%m-%d\")\n",
    "\n",
    "    dataframe.set_index(date_field, inplace=True)\n",
    "    # print(dataframe)\n",
    "    for i in zip(dataframe.index):\n",
    "        if country_holidays.get(i[0]):\n",
    "            dataframe[\"StateHoliday\"].loc[i[0]] = 1\n",
    "    dataframe.reset_index(inplace=True)\n",
    "    dataframe.columns = cols\n",
    "    dataframe[date_field] = pd.to_datetime(dataframe[date_field])"
   ]
  },
  {
   "cell_type": "code",
   "execution_count": 86,
   "metadata": {},
   "outputs": [
    {
     "data": {
      "text/html": [
       "<div>\n",
       "<style scoped>\n",
       "    .dataframe tbody tr th:only-of-type {\n",
       "        vertical-align: middle;\n",
       "    }\n",
       "\n",
       "    .dataframe tbody tr th {\n",
       "        vertical-align: top;\n",
       "    }\n",
       "\n",
       "    .dataframe thead th {\n",
       "        text-align: right;\n",
       "    }\n",
       "</style>\n",
       "<table border=\"1\" class=\"dataframe\">\n",
       "  <thead>\n",
       "    <tr style=\"text-align: right;\">\n",
       "      <th></th>\n",
       "      <th>date</th>\n",
       "    </tr>\n",
       "  </thead>\n",
       "  <tbody>\n",
       "    <tr>\n",
       "      <th>0</th>\n",
       "      <td>2001-01-01</td>\n",
       "    </tr>\n",
       "    <tr>\n",
       "      <th>1</th>\n",
       "      <td>2001-02-01</td>\n",
       "    </tr>\n",
       "    <tr>\n",
       "      <th>2</th>\n",
       "      <td>2001-07-04</td>\n",
       "    </tr>\n",
       "    <tr>\n",
       "      <th>3</th>\n",
       "      <td>2001-08-15</td>\n",
       "    </tr>\n",
       "    <tr>\n",
       "      <th>4</th>\n",
       "      <td>2001-11-22</td>\n",
       "    </tr>\n",
       "    <tr>\n",
       "      <th>5</th>\n",
       "      <td>2001-12-25</td>\n",
       "    </tr>\n",
       "  </tbody>\n",
       "</table>\n",
       "</div>"
      ],
      "text/plain": [
       "        date\n",
       "0 2001-01-01\n",
       "1 2001-02-01\n",
       "2 2001-07-04\n",
       "3 2001-08-15\n",
       "4 2001-11-22\n",
       "5 2001-12-25"
      ]
     },
     "execution_count": 86,
     "metadata": {},
     "output_type": "execute_result"
    }
   ],
   "source": [
    "df = pd.DataFrame(\n",
    "    pd.to_datetime(\n",
    "        pd.Series(\n",
    "            [\"20010101\", \"20010201\", \"20010704\", \"20010815\", \"20011122\", \"20011225\"]\n",
    "        ),\n",
    "        format=\"%Y%m%d\",\n",
    "    )\n",
    ")\n",
    "df.columns = [\"date\"]\n",
    "# df['date'] = df['date'].dt.strftime('%Y-%m-%d')\n",
    "# df.set_index('date',inplace=True)\n",
    "# df['state'] = 0\n",
    "# df.loc['2001-01-01']['state']\n",
    "df"
   ]
  },
  {
   "cell_type": "code",
   "execution_count": 87,
   "metadata": {},
   "outputs": [
    {
     "data": {
      "text/html": [
       "<div>\n",
       "<style scoped>\n",
       "    .dataframe tbody tr th:only-of-type {\n",
       "        vertical-align: middle;\n",
       "    }\n",
       "\n",
       "    .dataframe tbody tr th {\n",
       "        vertical-align: top;\n",
       "    }\n",
       "\n",
       "    .dataframe thead th {\n",
       "        text-align: right;\n",
       "    }\n",
       "</style>\n",
       "<table border=\"1\" class=\"dataframe\">\n",
       "  <thead>\n",
       "    <tr style=\"text-align: right;\">\n",
       "      <th></th>\n",
       "      <th>date</th>\n",
       "      <th>StateHoliday</th>\n",
       "    </tr>\n",
       "  </thead>\n",
       "  <tbody>\n",
       "    <tr>\n",
       "      <th>0</th>\n",
       "      <td>2001-01-01</td>\n",
       "      <td>1</td>\n",
       "    </tr>\n",
       "    <tr>\n",
       "      <th>1</th>\n",
       "      <td>2001-02-01</td>\n",
       "      <td>0</td>\n",
       "    </tr>\n",
       "    <tr>\n",
       "      <th>2</th>\n",
       "      <td>2001-07-04</td>\n",
       "      <td>1</td>\n",
       "    </tr>\n",
       "    <tr>\n",
       "      <th>3</th>\n",
       "      <td>2001-08-15</td>\n",
       "      <td>0</td>\n",
       "    </tr>\n",
       "    <tr>\n",
       "      <th>4</th>\n",
       "      <td>2001-11-22</td>\n",
       "      <td>1</td>\n",
       "    </tr>\n",
       "    <tr>\n",
       "      <th>5</th>\n",
       "      <td>2001-12-25</td>\n",
       "      <td>1</td>\n",
       "    </tr>\n",
       "  </tbody>\n",
       "</table>\n",
       "</div>"
      ],
      "text/plain": [
       "        date  StateHoliday\n",
       "0 2001-01-01             1\n",
       "1 2001-02-01             0\n",
       "2 2001-07-04             1\n",
       "3 2001-08-15             0\n",
       "4 2001-11-22             1\n",
       "5 2001-12-25             1"
      ]
     },
     "execution_count": 87,
     "metadata": {},
     "output_type": "execute_result"
    }
   ],
   "source": [
    "add_holidays_to_dataframe(df, \"date\", \"US\", [\"CA\"])\n",
    "df"
   ]
  },
  {
   "cell_type": "markdown",
   "metadata": {},
   "source": [
    "## Get time elapsed after a holiday or before the next one"
   ]
  },
  {
   "cell_type": "code",
   "execution_count": 83,
   "metadata": {},
   "outputs": [],
   "source": [
    "def get_elapsed_after(\n",
    "    dataframe, date_field, calculated_field, group_field=None, prefix=\"After\"\n",
    "):\n",
    "    \"\"\"\n",
    "    params: dataframe: Pandas dataframe in which elapsed time is to be calculated\n",
    "            date_field: The field with the date in YMD format\n",
    "            calculated_field: The field consisting of binaries which specify if it is to be counted as the event occurrence or not\n",
    "            group_field: Grouping done on specific field in order to create partitions separate\n",
    "            prefix: [\"Before\", \"After\"]\n",
    "                    After: Calculate days elapsed after an event\n",
    "                    Before: Calculate days remaining before an event\n",
    "    \n",
    "    returns: None, Changes made directly to dataframe\n",
    "    \"\"\"\n",
    "    hol_array = []\n",
    "    res = []\n",
    "    if group_field:\n",
    "        last_store = 0\n",
    "        if prefix == \"After\":\n",
    "            dataframe.sort_values([group_field, date_field], inplace=True)\n",
    "        elif prefix == \"Before\":\n",
    "            dataframe.sort_values(\n",
    "                [group_field, date_field], ascending=[True, False], inplace=True\n",
    "            )\n",
    "    else:\n",
    "        if prefix == \"After\":\n",
    "            dataframe.sort_values([date_field], inplace=True)\n",
    "        elif prefix == \"Before\":\n",
    "            dataframe.sort_values([date_field], ascending=[False], inplace=True)\n",
    "    last_date = dataframe[date_field].iloc[0]\n",
    "    first_param = (\n",
    "        dataframe[group_field].values if group_field else dataframe.index.values\n",
    "    )\n",
    "    for s, v, d in zip(\n",
    "        first_param, dataframe[calculated_field].values, dataframe[date_field].values\n",
    "    ):\n",
    "        # print(s, v, d)\n",
    "        if group_field:\n",
    "            if s != last_store:\n",
    "                last_date = np.datetime64()\n",
    "                last_store = s\n",
    "                hol_array = []\n",
    "\n",
    "        if v:\n",
    "            last_date = d\n",
    "            hol_array.append(d)\n",
    "        else:\n",
    "            last_date = d if not hol_array else hol_array[-1]\n",
    "\n",
    "        z = ((d - last_date).astype(\"timedelta64[D]\")) / np.timedelta64(1, \"D\")\n",
    "        res.append(abs(float(z)))\n",
    "        # print(hol_array)\n",
    "        # print(res)\n",
    "    dataframe[prefix + calculated_field] = res\n",
    "    # print(dataframe)"
   ]
  },
  {
   "cell_type": "code",
   "execution_count": 89,
   "metadata": {},
   "outputs": [
    {
     "data": {
      "text/html": [
       "<div>\n",
       "<style scoped>\n",
       "    .dataframe tbody tr th:only-of-type {\n",
       "        vertical-align: middle;\n",
       "    }\n",
       "\n",
       "    .dataframe tbody tr th {\n",
       "        vertical-align: top;\n",
       "    }\n",
       "\n",
       "    .dataframe thead th {\n",
       "        text-align: right;\n",
       "    }\n",
       "</style>\n",
       "<table border=\"1\" class=\"dataframe\">\n",
       "  <thead>\n",
       "    <tr style=\"text-align: right;\">\n",
       "      <th></th>\n",
       "      <th>date</th>\n",
       "      <th>StateHoliday</th>\n",
       "      <th>BeforeStateHoliday</th>\n",
       "      <th>AfterStateHoliday</th>\n",
       "    </tr>\n",
       "  </thead>\n",
       "  <tbody>\n",
       "    <tr>\n",
       "      <th>0</th>\n",
       "      <td>2001-01-01</td>\n",
       "      <td>1</td>\n",
       "      <td>0.0</td>\n",
       "      <td>0.0</td>\n",
       "    </tr>\n",
       "    <tr>\n",
       "      <th>1</th>\n",
       "      <td>2001-02-01</td>\n",
       "      <td>0</td>\n",
       "      <td>153.0</td>\n",
       "      <td>31.0</td>\n",
       "    </tr>\n",
       "    <tr>\n",
       "      <th>2</th>\n",
       "      <td>2001-07-04</td>\n",
       "      <td>1</td>\n",
       "      <td>0.0</td>\n",
       "      <td>0.0</td>\n",
       "    </tr>\n",
       "    <tr>\n",
       "      <th>3</th>\n",
       "      <td>2001-08-15</td>\n",
       "      <td>0</td>\n",
       "      <td>99.0</td>\n",
       "      <td>42.0</td>\n",
       "    </tr>\n",
       "    <tr>\n",
       "      <th>4</th>\n",
       "      <td>2001-11-22</td>\n",
       "      <td>1</td>\n",
       "      <td>0.0</td>\n",
       "      <td>0.0</td>\n",
       "    </tr>\n",
       "    <tr>\n",
       "      <th>5</th>\n",
       "      <td>2001-12-25</td>\n",
       "      <td>1</td>\n",
       "      <td>0.0</td>\n",
       "      <td>0.0</td>\n",
       "    </tr>\n",
       "  </tbody>\n",
       "</table>\n",
       "</div>"
      ],
      "text/plain": [
       "        date  StateHoliday  BeforeStateHoliday  AfterStateHoliday\n",
       "0 2001-01-01             1                 0.0                0.0\n",
       "1 2001-02-01             0               153.0               31.0\n",
       "2 2001-07-04             1                 0.0                0.0\n",
       "3 2001-08-15             0                99.0               42.0\n",
       "4 2001-11-22             1                 0.0                0.0\n",
       "5 2001-12-25             1                 0.0                0.0"
      ]
     },
     "execution_count": 89,
     "metadata": {},
     "output_type": "execute_result"
    }
   ],
   "source": [
    "get_elapsed_after(df, \"date\", \"StateHoliday\")\n",
    "df"
   ]
  },
  {
   "cell_type": "code",
   "execution_count": 79,
   "metadata": {},
   "outputs": [],
   "source": [
    "# TODO add dynamic holidays not present in dataframe already"
   ]
  },
  {
   "cell_type": "code",
   "execution_count": null,
   "metadata": {},
   "outputs": [],
   "source": []
  }
 ],
 "metadata": {
  "kernelspec": {
   "display_name": "Python 3",
   "language": "python",
   "name": "python3"
  },
  "language_info": {
   "codemirror_mode": {
    "name": "ipython",
    "version": 3
   },
   "file_extension": ".py",
   "mimetype": "text/x-python",
   "name": "python",
   "nbconvert_exporter": "python",
   "pygments_lexer": "ipython3",
   "version": "3.7.7"
  }
 },
 "nbformat": 4,
 "nbformat_minor": 4
}
