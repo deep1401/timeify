{
 "cells": [
  {
   "cell_type": "code",
   "execution_count": 1,
   "metadata": {},
   "outputs": [
    {
     "name": "stdout",
     "output_type": "stream",
     "text": [
      "Collecting holidays\n",
      "  Downloading holidays-0.10.3.tar.gz (114 kB)\n",
      "\u001b[K     |████████████████████████████████| 114 kB 265 kB/s eta 0:00:01\n",
      "\u001b[?25hRequirement already satisfied: python-dateutil in /opt/anaconda3/lib/python3.7/site-packages (from holidays) (2.8.1)\n",
      "Requirement already satisfied: six in /opt/anaconda3/lib/python3.7/site-packages (from holidays) (1.15.0)\n",
      "Collecting convertdate\n",
      "  Downloading convertdate-2.2.1-py2.py3-none-any.whl (43 kB)\n",
      "\u001b[K     |████████████████████████████████| 43 kB 672 kB/s eta 0:00:01\n",
      "\u001b[?25hCollecting korean_lunar_calendar\n",
      "  Downloading korean_lunar_calendar-0.2.1-py3-none-any.whl (8.0 kB)\n",
      "Requirement already satisfied: pytz>=2014.10 in /opt/anaconda3/lib/python3.7/site-packages (from convertdate->holidays) (2020.1)\n",
      "Collecting pymeeus<=1,>=0.3.6\n",
      "  Downloading PyMeeus-0.3.7.tar.gz (732 kB)\n",
      "\u001b[K     |████████████████████████████████| 732 kB 906 kB/s eta 0:00:01\n",
      "\u001b[?25hBuilding wheels for collected packages: holidays, pymeeus\n",
      "  Building wheel for holidays (setup.py) ... \u001b[?25ldone\n",
      "\u001b[?25h  Created wheel for holidays: filename=holidays-0.10.3-py3-none-any.whl size=115855 sha256=f734ce843d76aa5276b7cc23d0128c1efb54de95532642f08cad9951931b181d\n",
      "  Stored in directory: /Users/deep.gandhi/Library/Caches/pip/wheels/d0/67/01/18308fa32fabcd0af569b9f52934b2118c9b30bcf7b4b378f8\n",
      "  Building wheel for pymeeus (setup.py) ... \u001b[?25ldone\n",
      "\u001b[?25h  Created wheel for pymeeus: filename=PyMeeus-0.3.7-py3-none-any.whl size=702876 sha256=0b4126b64dd449065d5491c46149bb125a34233a758c442d7c131ccd2fa256ec\n",
      "  Stored in directory: /Users/deep.gandhi/Library/Caches/pip/wheels/80/32/5f/2a67880d4ce584b9cf99146f9945e46942dfb010a9382c6ff5\n",
      "Successfully built holidays pymeeus\n",
      "Installing collected packages: pymeeus, convertdate, korean-lunar-calendar, holidays\n",
      "Successfully installed convertdate-2.2.1 holidays-0.10.3 korean-lunar-calendar-0.2.1 pymeeus-0.3.7\n"
     ]
    }
   ],
   "source": [
    "!pip install holidays"
   ]
  },
  {
   "cell_type": "code",
   "execution_count": 85,
   "metadata": {},
   "outputs": [],
   "source": [
    "import holidays\n",
    "from datetime import date as date\n",
    "import pandas as pd"
   ]
  },
  {
   "cell_type": "code",
   "execution_count": 19,
   "metadata": {},
   "outputs": [
    {
     "name": "stdout",
     "output_type": "stream",
     "text": [
      "2020-01-14 Makar Sankranti / Pongal\n",
      "2020-01-26 Republic Day\n",
      "2020-05-01 Labour Day\n",
      "2020-08-15 Independence Day\n",
      "2020-10-02 Gandhi Jayanti\n",
      "2020-12-25 Christmas\n"
     ]
    }
   ],
   "source": [
    "for date, name in sorted(holidays.IND(state='AS', years=2020).items()):\n",
    "    print(date, name)"
   ]
  },
  {
   "cell_type": "code",
   "execution_count": 84,
   "metadata": {},
   "outputs": [
    {
     "data": {
      "text/plain": [
       "'2014-01-01'"
      ]
     },
     "execution_count": 84,
     "metadata": {},
     "output_type": "execute_result"
    }
   ],
   "source": [
    "us_holidays = holidays.US()\n"
   ]
  },
  {
   "cell_type": "code",
   "execution_count": 94,
   "metadata": {},
   "outputs": [],
   "source": [
    "country_code = 'US'\n",
    "us_holidays = holidays.CountryHoliday(country_code)\n",
    "us_holidays.prov = ['CA','MX']\n",
    "us_holidays.get('2020-1-2')"
   ]
  },
  {
   "cell_type": "code",
   "execution_count": 223,
   "metadata": {},
   "outputs": [
    {
     "data": {
      "text/html": [
       "<div>\n",
       "<style scoped>\n",
       "    .dataframe tbody tr th:only-of-type {\n",
       "        vertical-align: middle;\n",
       "    }\n",
       "\n",
       "    .dataframe tbody tr th {\n",
       "        vertical-align: top;\n",
       "    }\n",
       "\n",
       "    .dataframe thead th {\n",
       "        text-align: right;\n",
       "    }\n",
       "</style>\n",
       "<table border=\"1\" class=\"dataframe\">\n",
       "  <thead>\n",
       "    <tr style=\"text-align: right;\">\n",
       "      <th></th>\n",
       "      <th>date</th>\n",
       "    </tr>\n",
       "  </thead>\n",
       "  <tbody>\n",
       "    <tr>\n",
       "      <th>0</th>\n",
       "      <td>2001-01-01</td>\n",
       "    </tr>\n",
       "    <tr>\n",
       "      <th>1</th>\n",
       "      <td>2001-08-15</td>\n",
       "    </tr>\n",
       "    <tr>\n",
       "      <th>2</th>\n",
       "      <td>2030-01-01</td>\n",
       "    </tr>\n",
       "    <tr>\n",
       "      <th>3</th>\n",
       "      <td>2001-02-01</td>\n",
       "    </tr>\n",
       "  </tbody>\n",
       "</table>\n",
       "</div>"
      ],
      "text/plain": [
       "        date\n",
       "0 2001-01-01\n",
       "1 2001-08-15\n",
       "2 2030-01-01\n",
       "3 2001-02-01"
      ]
     },
     "execution_count": 223,
     "metadata": {},
     "output_type": "execute_result"
    }
   ],
   "source": [
    "df = pd.DataFrame(pd.to_datetime(pd.Series(['20010101', '20010815', '20300101','20010201']), format = '%Y%m%d'))\n",
    "df.columns = ['date']\n",
    "#df['date'] = df['date'].dt.strftime('%Y-%m-%d')\n",
    "#df.set_index('date',inplace=True)\n",
    "#df['state'] = 0\n",
    "#df.loc['2001-01-01']['state']\n",
    "df"
   ]
  },
  {
   "cell_type": "code",
   "execution_count": 222,
   "metadata": {},
   "outputs": [],
   "source": [
    "def add_holidays_to_dataframe(dataframe, date_field, country_code, province:list=None):\n",
    "    country_holidays = holidays.CountryHoliday(country_code)\n",
    "    country_holidays.prov = province\n",
    "    #dataframe['StateHoliday'] = 0\n",
    "    cols = list(dataframe.columns)\n",
    "    cols.append('StateHoliday')\n",
    "    #print(dataframe)\n",
    "    #dates = pd.DataFrame(dataframe[date_field]).copy()\n",
    "    dataframe['StateHoliday'] = 0\n",
    "    #print(dates.dtypes)\n",
    "    if dataframe[date_field].dtypes =='datetime64[ns]':\n",
    "        dataframe[date_field] = dataframe[date_field].dt.strftime('%Y-%m-%d')\n",
    "        \n",
    "    dataframe.set_index(date_field, inplace=True)\n",
    "    #print(dataframe)\n",
    "    for i in zip(dataframe.index):\n",
    "        if country_holidays.get(i[0]):\n",
    "            dataframe['StateHoliday'].loc[i[0]] = 1\n",
    "    dataframe.reset_index(inplace=True)\n",
    "    dataframe.columns = cols"
   ]
  },
  {
   "cell_type": "code",
   "execution_count": 224,
   "metadata": {},
   "outputs": [
    {
     "data": {
      "text/html": [
       "<div>\n",
       "<style scoped>\n",
       "    .dataframe tbody tr th:only-of-type {\n",
       "        vertical-align: middle;\n",
       "    }\n",
       "\n",
       "    .dataframe tbody tr th {\n",
       "        vertical-align: top;\n",
       "    }\n",
       "\n",
       "    .dataframe thead th {\n",
       "        text-align: right;\n",
       "    }\n",
       "</style>\n",
       "<table border=\"1\" class=\"dataframe\">\n",
       "  <thead>\n",
       "    <tr style=\"text-align: right;\">\n",
       "      <th></th>\n",
       "      <th>date</th>\n",
       "      <th>StateHoliday</th>\n",
       "    </tr>\n",
       "  </thead>\n",
       "  <tbody>\n",
       "    <tr>\n",
       "      <th>0</th>\n",
       "      <td>2001-01-01</td>\n",
       "      <td>1</td>\n",
       "    </tr>\n",
       "    <tr>\n",
       "      <th>1</th>\n",
       "      <td>2001-08-15</td>\n",
       "      <td>0</td>\n",
       "    </tr>\n",
       "    <tr>\n",
       "      <th>2</th>\n",
       "      <td>2030-01-01</td>\n",
       "      <td>1</td>\n",
       "    </tr>\n",
       "    <tr>\n",
       "      <th>3</th>\n",
       "      <td>2001-02-01</td>\n",
       "      <td>0</td>\n",
       "    </tr>\n",
       "  </tbody>\n",
       "</table>\n",
       "</div>"
      ],
      "text/plain": [
       "         date  StateHoliday\n",
       "0  2001-01-01             1\n",
       "1  2001-08-15             0\n",
       "2  2030-01-01             1\n",
       "3  2001-02-01             0"
      ]
     },
     "execution_count": 224,
     "metadata": {},
     "output_type": "execute_result"
    }
   ],
   "source": [
    "add_holidays_to_dataframe(df,'date','US')\n",
    "df"
   ]
  },
  {
   "cell_type": "code",
   "execution_count": null,
   "metadata": {},
   "outputs": [],
   "source": []
  }
 ],
 "metadata": {
  "kernelspec": {
   "display_name": "Python 3",
   "language": "python",
   "name": "python3"
  },
  "language_info": {
   "codemirror_mode": {
    "name": "ipython",
    "version": 3
   },
   "file_extension": ".py",
   "mimetype": "text/x-python",
   "name": "python",
   "nbconvert_exporter": "python",
   "pygments_lexer": "ipython3",
   "version": "3.7.7"
  }
 },
 "nbformat": 4,
 "nbformat_minor": 4
}
